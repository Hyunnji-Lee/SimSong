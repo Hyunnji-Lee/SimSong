{
 "cells": [
  {
   "cell_type": "markdown",
   "metadata": {},
   "source": [
    "### GT 유사도 데이터 csv만들기\n",
    "- similars_src 사용\n",
    "- df : 다운받은 gt데이터\n"
   ]
  },
  {
   "cell_type": "code",
   "execution_count": 1,
   "metadata": {},
   "outputs": [
    {
     "name": "stdout",
     "output_type": "stream",
     "text": [
      "Database downloaded successfully.\n"
     ]
    }
   ],
   "source": [
    "import sqlite3\n",
    "import requests\n",
    "\n",
    "# 데이터베이스 파일 다운로드 (로컬 환경용)\n",
    "db_url = \"http://labrosa.ee.columbia.edu/~dpwe/tmp/lastfm_similars.db\"\n",
    "db_path = \"lastfm_similars.db\"\n",
    "\n",
    "# 파일 다운로드\n",
    "response = requests.get(db_url)\n",
    "with open(db_path, \"wb\") as f:\n",
    "    f.write(response.content)\n",
    "\n",
    "print(\"Database downloaded successfully.\")"
   ]
  },
  {
   "cell_type": "code",
   "execution_count": 2,
   "metadata": {},
   "outputs": [
    {
     "name": "stdout",
     "output_type": "stream",
     "text": [
      "Tables: [('similars_src',), ('similars_dest_tmp',), ('similars_dest',)]\n"
     ]
    }
   ],
   "source": [
    "# 데이터베이스 연결\n",
    "conn = sqlite3.connect(db_path)\n",
    "cursor = conn.cursor()\n",
    "\n",
    "# 테이블 목록 조회\n",
    "cursor.execute(\"SELECT name FROM sqlite_master WHERE type='table';\")\n",
    "tables = cursor.fetchall()\n",
    "print(\"Tables:\", tables)\n",
    "\n",
    "conn.close()"
   ]
  },
  {
   "cell_type": "code",
   "execution_count": 3,
   "metadata": {},
   "outputs": [
    {
     "name": "stdout",
     "output_type": "stream",
     "text": [
      "We count the number of songs with at least one known similar\n"
     ]
    }
   ],
   "source": [
    "conn = sqlite3.connect(\"lastfm_similars.db\")\n",
    "print('We count the number of songs with at least one known similar')\n",
    "sql = \"SELECT DISTINCT tid FROM similars_src\"\n",
    "res = conn.execute(sql)"
   ]
  },
  {
   "cell_type": "code",
   "execution_count": 4,
   "metadata": {},
   "outputs": [
    {
     "data": {
      "text/html": [
       "<div>\n",
       "<style scoped>\n",
       "    .dataframe tbody tr th:only-of-type {\n",
       "        vertical-align: middle;\n",
       "    }\n",
       "\n",
       "    .dataframe tbody tr th {\n",
       "        vertical-align: top;\n",
       "    }\n",
       "\n",
       "    .dataframe thead th {\n",
       "        text-align: right;\n",
       "    }\n",
       "</style>\n",
       "<table border=\"1\" class=\"dataframe\">\n",
       "  <thead>\n",
       "    <tr style=\"text-align: right;\">\n",
       "      <th></th>\n",
       "      <th>tid</th>\n",
       "      <th>target</th>\n",
       "    </tr>\n",
       "  </thead>\n",
       "  <tbody>\n",
       "    <tr>\n",
       "      <th>0</th>\n",
       "      <td>TRCCCYE12903CFF0E9</td>\n",
       "      <td>TRHZRQH128F92F9AC2,0.498053,TRZQUEN12903CBFFBB...</td>\n",
       "    </tr>\n",
       "    <tr>\n",
       "      <th>1</th>\n",
       "      <td>TRCCCPM12903CBEEE5</td>\n",
       "      <td>TRNRRXT12903CFAD5A,1,TRWVNWV12903CBEEE7,0.5238...</td>\n",
       "    </tr>\n",
       "    <tr>\n",
       "      <th>2</th>\n",
       "      <td>TRCCCFH12903CEBC70</td>\n",
       "      <td>TRRGGCN128F92E3579,0.646036,TRTVJGV128F424A147...</td>\n",
       "    </tr>\n",
       "    <tr>\n",
       "      <th>3</th>\n",
       "      <td>TRCCCJT128F429FFF6</td>\n",
       "      <td>TRZSKOT128F429FFFC,1,TRYVKKD12903CEB9E2,1,TRVC...</td>\n",
       "    </tr>\n",
       "    <tr>\n",
       "      <th>4</th>\n",
       "      <td>TRCCCBJ128F4286E6F</td>\n",
       "      <td>TRHUKZN128F428B2BD,1,TRMMPCY128F4253A20,0.9906...</td>\n",
       "    </tr>\n",
       "  </tbody>\n",
       "</table>\n",
       "</div>"
      ],
      "text/plain": [
       "                  tid                                             target\n",
       "0  TRCCCYE12903CFF0E9  TRHZRQH128F92F9AC2,0.498053,TRZQUEN12903CBFFBB...\n",
       "1  TRCCCPM12903CBEEE5  TRNRRXT12903CFAD5A,1,TRWVNWV12903CBEEE7,0.5238...\n",
       "2  TRCCCFH12903CEBC70  TRRGGCN128F92E3579,0.646036,TRTVJGV128F424A147...\n",
       "3  TRCCCJT128F429FFF6  TRZSKOT128F429FFFC,1,TRYVKKD12903CEB9E2,1,TRVC...\n",
       "4  TRCCCBJ128F4286E6F  TRHUKZN128F428B2BD,1,TRMMPCY128F4253A20,0.9906..."
      ]
     },
     "execution_count": 4,
     "metadata": {},
     "output_type": "execute_result"
    }
   ],
   "source": [
    "#src\n",
    "import pandas as pd\n",
    "\n",
    "table_name = \"similars_src\"\n",
    "\n",
    "# 데이터 조회\n",
    "df = pd.read_sql_query(f\"SELECT * FROM {table_name};\", conn)\n",
    "\n",
    "# DataFrame 형태로 출력\n",
    "df.head()"
   ]
  },
  {
   "cell_type": "code",
   "execution_count": 7,
   "metadata": {},
   "outputs": [
    {
     "name": "stdout",
     "output_type": "stream",
     "text": [
      "<class 'pandas.core.frame.DataFrame'>\n",
      "RangeIndex: 584897 entries, 0 to 584896\n",
      "Data columns (total 2 columns):\n",
      " #   Column  Non-Null Count   Dtype \n",
      "---  ------  --------------   ----- \n",
      " 0   tid     584897 non-null  object\n",
      " 1   target  584897 non-null  object\n",
      "dtypes: object(2)\n",
      "memory usage: 8.9+ MB\n"
     ]
    }
   ],
   "source": [
    "df.info()"
   ]
  },
  {
   "cell_type": "code",
   "execution_count": null,
   "metadata": {},
   "outputs": [
    {
     "name": "stdout",
     "output_type": "stream",
     "text": [
      "TRHZRQH128F92F9AC2,0.498053,TRZQUEN12903CBFFBB,0.498053,TRIRQTJ12903CAC5C4,0.498053,TRNLGXS12903CBFF8E,0.498053,TRXAOIV12903CAC665,0.498053,TRYZKLF12903CBFF67,0.498053,TRNUWOI12903CBFF80,0.495826,TRXUNFQ12903CBFFB4,0.495826,TRRLBAR128F930C30F,0.484695,TRYZRKX128F932E8B4,0.483479,TRPHFTX128F92F9BA5,0.481284,TRKAPJT128F92F9BB1,0.481284,TRRFXSC128F932A9A4,0.477824,TRUDHGP128F934447B,0.47291,TRWCOWR128F9344482,0.470635,TRSJKVQ128F145E2EE,0.465952,TRPBXXS128F9346E21,0.465922,TRWRPII128F145E3CE,0.464278,TRNEDZA128F1459BA3,0.461378,TRPUMBJ128F9351158,0.461378,TRQHFFW128F934292E,0.458449,TRTHLAC128F93428C9,0.458449,TRBCGLO128F1459005,0.45085,TRLIPZO128F429E752,0.45085,TRTWQZD128F1458DC0,0.443595,TRKCNMH128F92FC002,0.425407,TRYOUSE12903CAC641,0.421402,TRCVZYG12903CC06BF,0.408971,TRDWUHX128F92F940F,0.40521,TRONQTG128F92F57A6,0.40521,TRCOLCP128EF340466,0.396879,TRHCTQY128F1461B77,0.379198,TRCBOLM128F93005F2,0.372515,TRUTWPA128F9351065,0.372515,TRTJNHL128F92CF1C9,0.368123,TRYCFZE128F147E560,0.366316,TRLCKRG128F92F9417,0.362955,TRENCGP128F9312A0A,0.362955,TRKAVWL12903CFB4CD,0.36062,TRFNYRZ128F429C5B2,0.360617,TRIYWRS128E079325C,0.360617,TRGNIHX128F42A90A4,0.34835,TRUEXQC128F92CF1A7,0.340396,TRCDCDQ128F93005E9,0.33642,TRAKAWD128F93444F5,0.33642,TRGJGND128F1458FB5,0.328065,TRYRLZE128F1461B87,0.29768,TRONWLI128F1458DB7,0.288443,TRCYMRE128F1458FB4,0.287435,TRJJSEP12903CE38CA,0.274492,TRITDOX128E07931DB,0.270429,TRASYBM12903CFB07A,0.260612,TRGAISE128E0791ADB,0.257826,TRESHRF128E0791AD6,0.257826,TRBCPJT128F4265DD5,0.238729,TRJNBJA128F1468E35,0.237842,TRIWKWU128F4265F08,0.235682,TRFSUZV128E078FDB7,0.235064,TRVNIBW12903CABB2E,0.213148,TRCYADS128F14866B2,0.210735,TRIMASQ128F4264D1A,0.196022,TRFBOWS128F93220C2,0.187995,TRZPVPA128F930D41B,0.181991,TRPDTGI128F425E1E4,0.179715,TRRMHEU12903CAC640,0.179073,TROEMWI12903CB19EE,0.179073,TRDBANU12903CBD4A1,0.175678,TRFNMTS12903CEE9B3,0.173558,TRZXGRW12903CEE887,0.173558,TRXCNAO128F93017C0,0.173558,TRKHKVN128F426ADD6,0.166738,TRQWPXR128F146376B,0.159844,TRDFLVN128EF34E106,0.158611,TRAUIIW12903CE302E,0.152415,TRYAUYZ128F1467F58,0.145647,TRNWZLW128F4266D2C,0.145019,TRZAPKF128F92E224B,0.137673,TRMFNDH128F9322D78,0.129042,TROAIMD128F4266D2A,0.122763,TRXAIQG128F4265046,0.118493,TRNWGQS128F92F0D20,0.0101499,TREKRFI128E0781C1F,0.010128,TRMONTX128F42AAC61,0.0100795,TRORNAH128F42AF917,0.0100795,TRYMYGE128F932C9F2,0.0100716,TRMPHNE128F92FB7C0,0.00989095,TRXLIEJ12903CA2129,0.00979542,TRZIRGX12903CB87E3,0.00979201,TRUQRYO12903CB87E2,0.00979201,TRTXWWG128F930F282,0.00973308,TRCNIAG128F146686F,0.00966892,TRIIQZG12903C9D0E7,0.00964953,TRFYOKO128F426B812,0.00962965,TRCUZGU128F14697E7,0.00960165,TRQMAZF128F934EDE4,0.00958973,TRGVHNU128F146AFFB,0.00957685,TRMOWGQ128F1485B0A,0.00954216,TREZFLQ128F4263CA2,0.00952927,TRJDCBY128F4284513,0.00952927,TRKGEEH128F92D2C43,0.00950555,TRURDWI128F424600C,0.0095013,TRLPIHD128F426B80A,0.0095013,TRJFFSC128F4270DB6,0.0095013,TRDSKEX128F4245F8E,0.0095013,TRGOVIW128F93501FF,0.00947192,TRQUCZB128F93504E9,0.00947192,TRSMWCJ128F4263BCB,0.00946766,TRNUEJT128F4264BF0,0.00946609,TRDDRBF128F4284E21,0.00946267,TRZSVTX128F1491825,0.00946174,TRKBLYO12903CDB320,0.00938183,TRPVGUT128F4236FD6,0.00936271,TRTMDDC128F425785B,0.00935041,TRJFGGN128F4284E2A,0.0093299,TREEAGP128F92EEADC,0.00926774,TRKITAO128F930BC7D,0.00924488\n",
      "232\n"
     ]
    }
   ],
   "source": [
    "print(df['target'][0])\n",
    "\n",
    "example = df['target'][0].split(',')\n",
    "print(len(example))"
   ]
  },
  {
   "cell_type": "code",
   "execution_count": null,
   "metadata": {},
   "outputs": [
    {
     "data": {
      "text/plain": [
       "584897"
      ]
     },
     "execution_count": 8,
     "metadata": {},
     "output_type": "execute_result"
    }
   ],
   "source": [
    "len(df)"
   ]
  },
  {
   "cell_type": "code",
   "execution_count": 5,
   "metadata": {},
   "outputs": [],
   "source": [
    "df['target'] = df['target'].apply(lambda x: x.split(','))"
   ]
  },
  {
   "cell_type": "code",
   "execution_count": 9,
   "metadata": {},
   "outputs": [
    {
     "name": "stdout",
     "output_type": "stream",
     "text": [
      "['TRHZRQH128F92F9AC2', '0.498053', 'TRZQUEN12903CBFFBB', '0.498053', 'TRIRQTJ12903CAC5C4', '0.498053', 'TRNLGXS12903CBFF8E', '0.498053', 'TRXAOIV12903CAC665', '0.498053', 'TRYZKLF12903CBFF67', '0.498053', 'TRNUWOI12903CBFF80', '0.495826', 'TRXUNFQ12903CBFFB4', '0.495826', 'TRRLBAR128F930C30F', '0.484695', 'TRYZRKX128F932E8B4', '0.483479', 'TRPHFTX128F92F9BA5', '0.481284', 'TRKAPJT128F92F9BB1', '0.481284', 'TRRFXSC128F932A9A4', '0.477824', 'TRUDHGP128F934447B', '0.47291', 'TRWCOWR128F9344482', '0.470635', 'TRSJKVQ128F145E2EE', '0.465952', 'TRPBXXS128F9346E21', '0.465922', 'TRWRPII128F145E3CE', '0.464278', 'TRNEDZA128F1459BA3', '0.461378', 'TRPUMBJ128F9351158', '0.461378', 'TRQHFFW128F934292E', '0.458449', 'TRTHLAC128F93428C9', '0.458449', 'TRBCGLO128F1459005', '0.45085', 'TRLIPZO128F429E752', '0.45085', 'TRTWQZD128F1458DC0', '0.443595', 'TRKCNMH128F92FC002', '0.425407', 'TRYOUSE12903CAC641', '0.421402', 'TRCVZYG12903CC06BF', '0.408971', 'TRDWUHX128F92F940F', '0.40521', 'TRONQTG128F92F57A6', '0.40521', 'TRCOLCP128EF340466', '0.396879', 'TRHCTQY128F1461B77', '0.379198', 'TRCBOLM128F93005F2', '0.372515', 'TRUTWPA128F9351065', '0.372515', 'TRTJNHL128F92CF1C9', '0.368123', 'TRYCFZE128F147E560', '0.366316', 'TRLCKRG128F92F9417', '0.362955', 'TRENCGP128F9312A0A', '0.362955', 'TRKAVWL12903CFB4CD', '0.36062', 'TRFNYRZ128F429C5B2', '0.360617', 'TRIYWRS128E079325C', '0.360617', 'TRGNIHX128F42A90A4', '0.34835', 'TRUEXQC128F92CF1A7', '0.340396', 'TRCDCDQ128F93005E9', '0.33642', 'TRAKAWD128F93444F5', '0.33642', 'TRGJGND128F1458FB5', '0.328065', 'TRYRLZE128F1461B87', '0.29768', 'TRONWLI128F1458DB7', '0.288443', 'TRCYMRE128F1458FB4', '0.287435', 'TRJJSEP12903CE38CA', '0.274492', 'TRITDOX128E07931DB', '0.270429', 'TRASYBM12903CFB07A', '0.260612', 'TRGAISE128E0791ADB', '0.257826', 'TRESHRF128E0791AD6', '0.257826', 'TRBCPJT128F4265DD5', '0.238729', 'TRJNBJA128F1468E35', '0.237842', 'TRIWKWU128F4265F08', '0.235682', 'TRFSUZV128E078FDB7', '0.235064', 'TRVNIBW12903CABB2E', '0.213148', 'TRCYADS128F14866B2', '0.210735', 'TRIMASQ128F4264D1A', '0.196022', 'TRFBOWS128F93220C2', '0.187995', 'TRZPVPA128F930D41B', '0.181991', 'TRPDTGI128F425E1E4', '0.179715', 'TRRMHEU12903CAC640', '0.179073', 'TROEMWI12903CB19EE', '0.179073', 'TRDBANU12903CBD4A1', '0.175678', 'TRFNMTS12903CEE9B3', '0.173558', 'TRZXGRW12903CEE887', '0.173558', 'TRXCNAO128F93017C0', '0.173558', 'TRKHKVN128F426ADD6', '0.166738', 'TRQWPXR128F146376B', '0.159844', 'TRDFLVN128EF34E106', '0.158611', 'TRAUIIW12903CE302E', '0.152415', 'TRYAUYZ128F1467F58', '0.145647', 'TRNWZLW128F4266D2C', '0.145019', 'TRZAPKF128F92E224B', '0.137673', 'TRMFNDH128F9322D78', '0.129042', 'TROAIMD128F4266D2A', '0.122763', 'TRXAIQG128F4265046', '0.118493', 'TRNWGQS128F92F0D20', '0.0101499', 'TREKRFI128E0781C1F', '0.010128', 'TRMONTX128F42AAC61', '0.0100795', 'TRORNAH128F42AF917', '0.0100795', 'TRYMYGE128F932C9F2', '0.0100716', 'TRMPHNE128F92FB7C0', '0.00989095', 'TRXLIEJ12903CA2129', '0.00979542', 'TRZIRGX12903CB87E3', '0.00979201', 'TRUQRYO12903CB87E2', '0.00979201', 'TRTXWWG128F930F282', '0.00973308', 'TRCNIAG128F146686F', '0.00966892', 'TRIIQZG12903C9D0E7', '0.00964953', 'TRFYOKO128F426B812', '0.00962965', 'TRCUZGU128F14697E7', '0.00960165', 'TRQMAZF128F934EDE4', '0.00958973', 'TRGVHNU128F146AFFB', '0.00957685', 'TRMOWGQ128F1485B0A', '0.00954216', 'TREZFLQ128F4263CA2', '0.00952927', 'TRJDCBY128F4284513', '0.00952927', 'TRKGEEH128F92D2C43', '0.00950555', 'TRURDWI128F424600C', '0.0095013', 'TRLPIHD128F426B80A', '0.0095013', 'TRJFFSC128F4270DB6', '0.0095013', 'TRDSKEX128F4245F8E', '0.0095013', 'TRGOVIW128F93501FF', '0.00947192', 'TRQUCZB128F93504E9', '0.00947192', 'TRSMWCJ128F4263BCB', '0.00946766', 'TRNUEJT128F4264BF0', '0.00946609', 'TRDDRBF128F4284E21', '0.00946267', 'TRZSVTX128F1491825', '0.00946174', 'TRKBLYO12903CDB320', '0.00938183', 'TRPVGUT128F4236FD6', '0.00936271', 'TRTMDDC128F425785B', '0.00935041', 'TRJFGGN128F4284E2A', '0.0093299', 'TREEAGP128F92EEADC', '0.00926774', 'TRKITAO128F930BC7D', '0.00924488']\n"
     ]
    }
   ],
   "source": [
    "print(df['target'][0])"
   ]
  },
  {
   "cell_type": "code",
   "execution_count": 6,
   "metadata": {},
   "outputs": [],
   "source": [
    "df['target'] = df['target'].apply(lambda row: {row[n]: row[n+1] for n in range(0, len(row), 2)})"
   ]
  },
  {
   "cell_type": "code",
   "execution_count": 7,
   "metadata": {},
   "outputs": [
    {
     "name": "stdout",
     "output_type": "stream",
     "text": [
      "{'TRHZRQH128F92F9AC2': '0.498053', 'TRZQUEN12903CBFFBB': '0.498053', 'TRIRQTJ12903CAC5C4': '0.498053', 'TRNLGXS12903CBFF8E': '0.498053', 'TRXAOIV12903CAC665': '0.498053', 'TRYZKLF12903CBFF67': '0.498053', 'TRNUWOI12903CBFF80': '0.495826', 'TRXUNFQ12903CBFFB4': '0.495826', 'TRRLBAR128F930C30F': '0.484695', 'TRYZRKX128F932E8B4': '0.483479', 'TRPHFTX128F92F9BA5': '0.481284', 'TRKAPJT128F92F9BB1': '0.481284', 'TRRFXSC128F932A9A4': '0.477824', 'TRUDHGP128F934447B': '0.47291', 'TRWCOWR128F9344482': '0.470635', 'TRSJKVQ128F145E2EE': '0.465952', 'TRPBXXS128F9346E21': '0.465922', 'TRWRPII128F145E3CE': '0.464278', 'TRNEDZA128F1459BA3': '0.461378', 'TRPUMBJ128F9351158': '0.461378', 'TRQHFFW128F934292E': '0.458449', 'TRTHLAC128F93428C9': '0.458449', 'TRBCGLO128F1459005': '0.45085', 'TRLIPZO128F429E752': '0.45085', 'TRTWQZD128F1458DC0': '0.443595', 'TRKCNMH128F92FC002': '0.425407', 'TRYOUSE12903CAC641': '0.421402', 'TRCVZYG12903CC06BF': '0.408971', 'TRDWUHX128F92F940F': '0.40521', 'TRONQTG128F92F57A6': '0.40521', 'TRCOLCP128EF340466': '0.396879', 'TRHCTQY128F1461B77': '0.379198', 'TRCBOLM128F93005F2': '0.372515', 'TRUTWPA128F9351065': '0.372515', 'TRTJNHL128F92CF1C9': '0.368123', 'TRYCFZE128F147E560': '0.366316', 'TRLCKRG128F92F9417': '0.362955', 'TRENCGP128F9312A0A': '0.362955', 'TRKAVWL12903CFB4CD': '0.36062', 'TRFNYRZ128F429C5B2': '0.360617', 'TRIYWRS128E079325C': '0.360617', 'TRGNIHX128F42A90A4': '0.34835', 'TRUEXQC128F92CF1A7': '0.340396', 'TRCDCDQ128F93005E9': '0.33642', 'TRAKAWD128F93444F5': '0.33642', 'TRGJGND128F1458FB5': '0.328065', 'TRYRLZE128F1461B87': '0.29768', 'TRONWLI128F1458DB7': '0.288443', 'TRCYMRE128F1458FB4': '0.287435', 'TRJJSEP12903CE38CA': '0.274492', 'TRITDOX128E07931DB': '0.270429', 'TRASYBM12903CFB07A': '0.260612', 'TRGAISE128E0791ADB': '0.257826', 'TRESHRF128E0791AD6': '0.257826', 'TRBCPJT128F4265DD5': '0.238729', 'TRJNBJA128F1468E35': '0.237842', 'TRIWKWU128F4265F08': '0.235682', 'TRFSUZV128E078FDB7': '0.235064', 'TRVNIBW12903CABB2E': '0.213148', 'TRCYADS128F14866B2': '0.210735', 'TRIMASQ128F4264D1A': '0.196022', 'TRFBOWS128F93220C2': '0.187995', 'TRZPVPA128F930D41B': '0.181991', 'TRPDTGI128F425E1E4': '0.179715', 'TRRMHEU12903CAC640': '0.179073', 'TROEMWI12903CB19EE': '0.179073', 'TRDBANU12903CBD4A1': '0.175678', 'TRFNMTS12903CEE9B3': '0.173558', 'TRZXGRW12903CEE887': '0.173558', 'TRXCNAO128F93017C0': '0.173558', 'TRKHKVN128F426ADD6': '0.166738', 'TRQWPXR128F146376B': '0.159844', 'TRDFLVN128EF34E106': '0.158611', 'TRAUIIW12903CE302E': '0.152415', 'TRYAUYZ128F1467F58': '0.145647', 'TRNWZLW128F4266D2C': '0.145019', 'TRZAPKF128F92E224B': '0.137673', 'TRMFNDH128F9322D78': '0.129042', 'TROAIMD128F4266D2A': '0.122763', 'TRXAIQG128F4265046': '0.118493', 'TRNWGQS128F92F0D20': '0.0101499', 'TREKRFI128E0781C1F': '0.010128', 'TRMONTX128F42AAC61': '0.0100795', 'TRORNAH128F42AF917': '0.0100795', 'TRYMYGE128F932C9F2': '0.0100716', 'TRMPHNE128F92FB7C0': '0.00989095', 'TRXLIEJ12903CA2129': '0.00979542', 'TRZIRGX12903CB87E3': '0.00979201', 'TRUQRYO12903CB87E2': '0.00979201', 'TRTXWWG128F930F282': '0.00973308', 'TRCNIAG128F146686F': '0.00966892', 'TRIIQZG12903C9D0E7': '0.00964953', 'TRFYOKO128F426B812': '0.00962965', 'TRCUZGU128F14697E7': '0.00960165', 'TRQMAZF128F934EDE4': '0.00958973', 'TRGVHNU128F146AFFB': '0.00957685', 'TRMOWGQ128F1485B0A': '0.00954216', 'TREZFLQ128F4263CA2': '0.00952927', 'TRJDCBY128F4284513': '0.00952927', 'TRKGEEH128F92D2C43': '0.00950555', 'TRURDWI128F424600C': '0.0095013', 'TRLPIHD128F426B80A': '0.0095013', 'TRJFFSC128F4270DB6': '0.0095013', 'TRDSKEX128F4245F8E': '0.0095013', 'TRGOVIW128F93501FF': '0.00947192', 'TRQUCZB128F93504E9': '0.00947192', 'TRSMWCJ128F4263BCB': '0.00946766', 'TRNUEJT128F4264BF0': '0.00946609', 'TRDDRBF128F4284E21': '0.00946267', 'TRZSVTX128F1491825': '0.00946174', 'TRKBLYO12903CDB320': '0.00938183', 'TRPVGUT128F4236FD6': '0.00936271', 'TRTMDDC128F425785B': '0.00935041', 'TRJFGGN128F4284E2A': '0.0093299', 'TREEAGP128F92EEADC': '0.00926774', 'TRKITAO128F930BC7D': '0.00924488'}\n",
      "116\n"
     ]
    }
   ],
   "source": [
    "print(df['target'][0])\n",
    "print(len(df['target'][0]))"
   ]
  },
  {
   "cell_type": "markdown",
   "metadata": {},
   "source": [
    "#### 정리한 데이터 불러오기\n",
    "- data : 불러온 csv\n",
    "- train test split 필요함 \n",
    "    - train: 1889, test: 473"
   ]
  },
  {
   "cell_type": "code",
   "execution_count": 8,
   "metadata": {},
   "outputs": [
    {
     "data": {
      "text/html": [
       "<div>\n",
       "<style scoped>\n",
       "    .dataframe tbody tr th:only-of-type {\n",
       "        vertical-align: middle;\n",
       "    }\n",
       "\n",
       "    .dataframe tbody tr th {\n",
       "        vertical-align: top;\n",
       "    }\n",
       "\n",
       "    .dataframe thead th {\n",
       "        text-align: right;\n",
       "    }\n",
       "</style>\n",
       "<table border=\"1\" class=\"dataframe\">\n",
       "  <thead>\n",
       "    <tr style=\"text-align: right;\">\n",
       "      <th></th>\n",
       "      <th>genre</th>\n",
       "      <th>track_id</th>\n",
       "      <th>artist_name</th>\n",
       "      <th>title</th>\n",
       "      <th>lyrics</th>\n",
       "    </tr>\n",
       "  </thead>\n",
       "  <tbody>\n",
       "    <tr>\n",
       "      <th>0</th>\n",
       "      <td>classic pop and rock</td>\n",
       "      <td>TRWUBTF128F4278A66</td>\n",
       "      <td>Blue Oyster Cult</td>\n",
       "      <td>The Red &amp; The Black</td>\n",
       "      <td>Canadian Mounted , baby Police force at work R...</td>\n",
       "    </tr>\n",
       "    <tr>\n",
       "      <th>1</th>\n",
       "      <td>classic pop and rock</td>\n",
       "      <td>TRMMSXG128F4260B30</td>\n",
       "      <td>Blue Oyster Cult</td>\n",
       "      <td>I'm On The Lamb But I Ain't No Sheep</td>\n",
       "      <td>Canadian Mounted, baby Police force at work Re...</td>\n",
       "    </tr>\n",
       "    <tr>\n",
       "      <th>2</th>\n",
       "      <td>classic pop and rock</td>\n",
       "      <td>TRWWXBZ128F92C2C0D</td>\n",
       "      <td>Blue Oyster Cult</td>\n",
       "      <td>Kick Out The Jams</td>\n",
       "      <td>Well, I feel pretty good And I guess that I co...</td>\n",
       "    </tr>\n",
       "    <tr>\n",
       "      <th>3</th>\n",
       "      <td>classic pop and rock</td>\n",
       "      <td>TRGEFJN128F4270A69</td>\n",
       "      <td>Blue Oyster Cult</td>\n",
       "      <td>7 Screaming Diz-Busters</td>\n",
       "      <td>They held their heads with laughs of pain They...</td>\n",
       "    </tr>\n",
       "    <tr>\n",
       "      <th>4</th>\n",
       "      <td>classic pop and rock</td>\n",
       "      <td>TRWVTKP128EF362538</td>\n",
       "      <td>Tone-Loc</td>\n",
       "      <td>All Through The Night</td>\n",
       "      <td>Whoa! Lord have mercy Aah, baby, c'mon  Yeah H...</td>\n",
       "    </tr>\n",
       "  </tbody>\n",
       "</table>\n",
       "</div>"
      ],
      "text/plain": [
       "                  genre            track_id       artist_name  \\\n",
       "0  classic pop and rock  TRWUBTF128F4278A66  Blue Oyster Cult   \n",
       "1  classic pop and rock  TRMMSXG128F4260B30  Blue Oyster Cult   \n",
       "2  classic pop and rock  TRWWXBZ128F92C2C0D  Blue Oyster Cult   \n",
       "3  classic pop and rock  TRGEFJN128F4270A69  Blue Oyster Cult   \n",
       "4  classic pop and rock  TRWVTKP128EF362538          Tone-Loc   \n",
       "\n",
       "                                  title  \\\n",
       "0                   The Red & The Black   \n",
       "1  I'm On The Lamb But I Ain't No Sheep   \n",
       "2                     Kick Out The Jams   \n",
       "3               7 Screaming Diz-Busters   \n",
       "4                 All Through The Night   \n",
       "\n",
       "                                              lyrics  \n",
       "0  Canadian Mounted , baby Police force at work R...  \n",
       "1  Canadian Mounted, baby Police force at work Re...  \n",
       "2  Well, I feel pretty good And I guess that I co...  \n",
       "3  They held their heads with laughs of pain They...  \n",
       "4  Whoa! Lord have mercy Aah, baby, c'mon  Yeah H...  "
      ]
     },
     "execution_count": 8,
     "metadata": {},
     "output_type": "execute_result"
    }
   ],
   "source": [
    "import pandas as pd\n",
    "\n",
    "path = '../data_v2/intersec_lyrics_cleaned_0316.csv'\n",
    "data = pd.read_csv(path)\n",
    "data.head()"
   ]
  },
  {
   "cell_type": "code",
   "execution_count": 9,
   "metadata": {},
   "outputs": [
    {
     "name": "stdout",
     "output_type": "stream",
     "text": [
      "2362\n"
     ]
    }
   ],
   "source": [
    "track_id = data['track_id'].tolist()\n",
    "print(len(track_id))"
   ]
  },
  {
   "cell_type": "code",
   "execution_count": 10,
   "metadata": {},
   "outputs": [
    {
     "name": "stdout",
     "output_type": "stream",
     "text": [
      "train: 1417, test: 945\n"
     ]
    }
   ],
   "source": [
    "# train test split\n",
    "import random\n",
    "\n",
    "random.seed(42)\n",
    "shuffled_track_id = random.shuffle(track_id)\n",
    "\n",
    "# train: test = 6:4\n",
    "train = track_id[:int(len(track_id)*0.6)]\n",
    "test = track_id[int(len(track_id)*0.6):]\n",
    "\n",
    "print(f'train: {len(train)}, test: {len(test)}')"
   ]
  },
  {
   "cell_type": "code",
   "execution_count": null,
   "metadata": {},
   "outputs": [],
   "source": [
    "# mp3 폴더 내에 train, test 폴더 생성 및 분류\n",
    "data_list = {'train': train, 'test': test}\n",
    "\n",
    "import json\n",
    "json.dump(data_list, open('data_list.json', 'w'))"
   ]
  },
  {
   "cell_type": "markdown",
   "metadata": {},
   "source": [
    "### GT내에서 불러온 데이터 csv의 교집합만 남기기"
   ]
  },
  {
   "cell_type": "markdown",
   "metadata": {},
   "source": [
    "##### 전체 데이터 기준으로 한 것"
   ]
  },
  {
   "cell_type": "code",
   "execution_count": 11,
   "metadata": {},
   "outputs": [],
   "source": [
    "df_filtered_total = df[df['tid'].isin(track_id)]\n",
    "\n",
    "\n",
    "df_filtered_total = df_filtered_total.copy()\n",
    "df_filtered_total['target'] = df_filtered_total['target'].apply(lambda x: {k: v for k, v in x.items() if k in track_id})\n",
    "\n",
    "df_filtered_total['target'] = df_filtered_total.apply(lambda row: {k: v for k, v in row['target'].items() if k not in row['tid']}, axis=1)\n",
    "df_filtered_total_2 = df_filtered_total[df_filtered_total['target'].apply(lambda x: len(x) > 0)]\n"
   ]
  },
  {
   "cell_type": "code",
   "execution_count": null,
   "metadata": {},
   "outputs": [
    {
     "name": "stdout",
     "output_type": "stream",
     "text": [
      "average : 2.8484848484848486\n",
      "max : 17\n",
      "min : 1\n"
     ]
    }
   ],
   "source": [
    "a = 0\n",
    "num = [len(df_filtered_total_2['target'].iloc[i]) for i in range(len(df_filtered_total_2))]\n",
    "num = sorted(num)\n",
    "\n",
    "# 평균 개수\n",
    "average = sum(num) / len(num)\n",
    "print(f'average : {average}')\n",
    "\n",
    "# 최대 / 최소 개수\n",
    "print(f'max : {max(num)}')\n",
    "print(f'min : {min(num)}')"
   ]
  },
  {
   "cell_type": "code",
   "execution_count": 86,
   "metadata": {},
   "outputs": [
    {
     "data": {
      "image/png": "[encoded data removed]",
      "text/plain": [
       "<Figure size 640x480 with 1 Axes>"
      ]
     },
     "metadata": {},
     "output_type": "display_data"
    }
   ],
   "source": [
    "import matplotlib.pyplot as plt\n",
    "\n",
    "plt.hist(num, bins=10)\n",
    "plt.title('Number of each component songs')\n",
    "plt.show()"
   ]
  },
  {
   "cell_type": "markdown",
   "metadata": {},
   "source": [
    "#### test 데이터 기준으로 한 것"
   ]
  },
  {
   "cell_type": "code",
   "execution_count": 67,
   "metadata": {},
   "outputs": [
    {
     "name": "stdout",
     "output_type": "stream",
     "text": [
      "945\n"
     ]
    },
    {
     "data": {
      "text/html": [
       "<div>\n",
       "<style scoped>\n",
       "    .dataframe tbody tr th:only-of-type {\n",
       "        vertical-align: middle;\n",
       "    }\n",
       "\n",
       "    .dataframe tbody tr th {\n",
       "        vertical-align: top;\n",
       "    }\n",
       "\n",
       "    .dataframe thead th {\n",
       "        text-align: right;\n",
       "    }\n",
       "</style>\n",
       "<table border=\"1\" class=\"dataframe\">\n",
       "  <thead>\n",
       "    <tr style=\"text-align: right;\">\n",
       "      <th></th>\n",
       "      <th>tid</th>\n",
       "      <th>target</th>\n",
       "    </tr>\n",
       "  </thead>\n",
       "  <tbody>\n",
       "    <tr>\n",
       "      <th>7670</th>\n",
       "      <td>TRHCNNA128F42366CA</td>\n",
       "      <td>{'TRYWJVF128F4278063': '0.187117', 'TRJWUCM128...</td>\n",
       "    </tr>\n",
       "    <tr>\n",
       "      <th>7707</th>\n",
       "      <td>TRHCUXA128F9314D98</td>\n",
       "      <td>{'TRTVRVD128F428C6D9': '0.41784', 'TRGLGCD128F...</td>\n",
       "    </tr>\n",
       "    <tr>\n",
       "      <th>7798</th>\n",
       "      <td>TRHJUBR128F92E7447</td>\n",
       "      <td>{'TRTRORP128F92E744E': '1', 'TREZPZC128F92E744...</td>\n",
       "    </tr>\n",
       "    <tr>\n",
       "      <th>7936</th>\n",
       "      <td>TRHHSQQ12903CD3181</td>\n",
       "      <td>{'TRSWKPR12903CD3185': '1', 'TRIDKAZ12903CD318...</td>\n",
       "    </tr>\n",
       "    <tr>\n",
       "      <th>7939</th>\n",
       "      <td>TRHHFRP128F4292954</td>\n",
       "      <td>{'TRNVFWA128F4293187': '1', 'TRTURZM128F42A1C1...</td>\n",
       "    </tr>\n",
       "  </tbody>\n",
       "</table>\n",
       "</div>"
      ],
      "text/plain": [
       "                     tid                                             target\n",
       "7670  TRHCNNA128F42366CA  {'TRYWJVF128F4278063': '0.187117', 'TRJWUCM128...\n",
       "7707  TRHCUXA128F9314D98  {'TRTVRVD128F428C6D9': '0.41784', 'TRGLGCD128F...\n",
       "7798  TRHJUBR128F92E7447  {'TRTRORP128F92E744E': '1', 'TREZPZC128F92E744...\n",
       "7936  TRHHSQQ12903CD3181  {'TRSWKPR12903CD3185': '1', 'TRIDKAZ12903CD318...\n",
       "7939  TRHHFRP128F4292954  {'TRNVFWA128F4293187': '1', 'TRTURZM128F42A1C1..."
      ]
     },
     "execution_count": 67,
     "metadata": {},
     "output_type": "execute_result"
    }
   ],
   "source": [
    "# 앵커 기준 filter\n",
    "df_filtered = df[df['tid'].isin(test)]\n",
    "print(len(df_filtered))\n",
    "df_filtered.head()"
   ]
  },
  {
   "cell_type": "code",
   "execution_count": 69,
   "metadata": {},
   "outputs": [
    {
     "data": {
      "text/html": [
       "<div>\n",
       "<style scoped>\n",
       "    .dataframe tbody tr th:only-of-type {\n",
       "        vertical-align: middle;\n",
       "    }\n",
       "\n",
       "    .dataframe tbody tr th {\n",
       "        vertical-align: top;\n",
       "    }\n",
       "\n",
       "    .dataframe thead th {\n",
       "        text-align: right;\n",
       "    }\n",
       "</style>\n",
       "<table border=\"1\" class=\"dataframe\">\n",
       "  <thead>\n",
       "    <tr style=\"text-align: right;\">\n",
       "      <th></th>\n",
       "      <th>tid</th>\n",
       "      <th>target</th>\n",
       "    </tr>\n",
       "  </thead>\n",
       "  <tbody>\n",
       "    <tr>\n",
       "      <th>7670</th>\n",
       "      <td>TRHCNNA128F42366CA</td>\n",
       "      <td>{}</td>\n",
       "    </tr>\n",
       "    <tr>\n",
       "      <th>7707</th>\n",
       "      <td>TRHCUXA128F9314D98</td>\n",
       "      <td>{}</td>\n",
       "    </tr>\n",
       "    <tr>\n",
       "      <th>7798</th>\n",
       "      <td>TRHJUBR128F92E7447</td>\n",
       "      <td>{'TRGXNYW128F92E745F': '0.029664'}</td>\n",
       "    </tr>\n",
       "    <tr>\n",
       "      <th>7936</th>\n",
       "      <td>TRHHSQQ12903CD3181</td>\n",
       "      <td>{}</td>\n",
       "    </tr>\n",
       "    <tr>\n",
       "      <th>7939</th>\n",
       "      <td>TRHHFRP128F4292954</td>\n",
       "      <td>{'TRWPHZV128C71967FC': '0.0755565'}</td>\n",
       "    </tr>\n",
       "  </tbody>\n",
       "</table>\n",
       "</div>"
      ],
      "text/plain": [
       "                     tid                               target\n",
       "7670  TRHCNNA128F42366CA                                   {}\n",
       "7707  TRHCUXA128F9314D98                                   {}\n",
       "7798  TRHJUBR128F92E7447   {'TRGXNYW128F92E745F': '0.029664'}\n",
       "7936  TRHHSQQ12903CD3181                                   {}\n",
       "7939  TRHHFRP128F4292954  {'TRWPHZV128C71967FC': '0.0755565'}"
      ]
     },
     "execution_count": 69,
     "metadata": {},
     "output_type": "execute_result"
    }
   ],
   "source": [
    "# 각 앵커에 속하는 노래 filter\n",
    "df_filtered = df_filtered.copy()\n",
    "df_filtered['target'] = df_filtered['target'].apply(lambda x: {k: v for k, v in x.items() if k in test})\n",
    "df_filtered.head()"
   ]
  },
  {
   "cell_type": "code",
   "execution_count": 70,
   "metadata": {},
   "outputs": [
    {
     "data": {
      "text/plain": [
       "{'TRGXNYW128F92E745F': '0.029664'}"
      ]
     },
     "execution_count": 70,
     "metadata": {},
     "output_type": "execute_result"
    }
   ],
   "source": [
    "df_filtered.iloc[2]['target']"
   ]
  },
  {
   "cell_type": "code",
   "execution_count": 71,
   "metadata": {},
   "outputs": [
    {
     "name": "stdout",
     "output_type": "stream",
     "text": [
      "945\n"
     ]
    },
    {
     "data": {
      "text/html": [
       "<div>\n",
       "<style scoped>\n",
       "    .dataframe tbody tr th:only-of-type {\n",
       "        vertical-align: middle;\n",
       "    }\n",
       "\n",
       "    .dataframe tbody tr th {\n",
       "        vertical-align: top;\n",
       "    }\n",
       "\n",
       "    .dataframe thead th {\n",
       "        text-align: right;\n",
       "    }\n",
       "</style>\n",
       "<table border=\"1\" class=\"dataframe\">\n",
       "  <thead>\n",
       "    <tr style=\"text-align: right;\">\n",
       "      <th></th>\n",
       "      <th>tid</th>\n",
       "      <th>target</th>\n",
       "    </tr>\n",
       "  </thead>\n",
       "  <tbody>\n",
       "    <tr>\n",
       "      <th>7670</th>\n",
       "      <td>TRHCNNA128F42366CA</td>\n",
       "      <td>{}</td>\n",
       "    </tr>\n",
       "    <tr>\n",
       "      <th>7707</th>\n",
       "      <td>TRHCUXA128F9314D98</td>\n",
       "      <td>{}</td>\n",
       "    </tr>\n",
       "    <tr>\n",
       "      <th>7798</th>\n",
       "      <td>TRHJUBR128F92E7447</td>\n",
       "      <td>{'TRGXNYW128F92E745F': '0.029664'}</td>\n",
       "    </tr>\n",
       "    <tr>\n",
       "      <th>7936</th>\n",
       "      <td>TRHHSQQ12903CD3181</td>\n",
       "      <td>{}</td>\n",
       "    </tr>\n",
       "    <tr>\n",
       "      <th>7939</th>\n",
       "      <td>TRHHFRP128F4292954</td>\n",
       "      <td>{'TRWPHZV128C71967FC': '0.0755565'}</td>\n",
       "    </tr>\n",
       "  </tbody>\n",
       "</table>\n",
       "</div>"
      ],
      "text/plain": [
       "                     tid                               target\n",
       "7670  TRHCNNA128F42366CA                                   {}\n",
       "7707  TRHCUXA128F9314D98                                   {}\n",
       "7798  TRHJUBR128F92E7447   {'TRGXNYW128F92E745F': '0.029664'}\n",
       "7936  TRHHSQQ12903CD3181                                   {}\n",
       "7939  TRHHFRP128F4292954  {'TRWPHZV128C71967FC': '0.0755565'}"
      ]
     },
     "execution_count": 71,
     "metadata": {},
     "output_type": "execute_result"
    }
   ],
   "source": [
    "# 앵커가 target에 들어가 있는 경우, target에서 앵커 제거\n",
    "df_filtered['target'] = df_filtered.apply(lambda row: {k: v for k, v in row['target'].items() if k not in row['tid']}, axis=1)\n",
    "print(len(df_filtered))\n",
    "df_filtered.head()"
   ]
  },
  {
   "cell_type": "code",
   "execution_count": 72,
   "metadata": {},
   "outputs": [
    {
     "name": "stdout",
     "output_type": "stream",
     "text": [
      "<class 'pandas.core.frame.DataFrame'>\n",
      "Index: 491 entries, 7798 to 485620\n",
      "Data columns (total 2 columns):\n",
      " #   Column  Non-Null Count  Dtype \n",
      "---  ------  --------------  ----- \n",
      " 0   tid     491 non-null    object\n",
      " 1   target  491 non-null    object\n",
      "dtypes: object(2)\n",
      "memory usage: 11.5+ KB\n",
      "491\n"
     ]
    }
   ],
   "source": [
    "# 속한 노래가 없는 경우는 제거\n",
    "df_filtered_2 = df_filtered[df_filtered['target'].apply(lambda x: len(x) > 0)]\n",
    "df_filtered_2.info()\n",
    "print(len(df_filtered_2))"
   ]
  },
  {
   "cell_type": "code",
   "execution_count": 73,
   "metadata": {},
   "outputs": [
    {
     "name": "stdout",
     "output_type": "stream",
     "text": [
      "average : 1.580448065173116\n",
      "max : 7\n",
      "min : 1\n"
     ]
    }
   ],
   "source": [
    "a = 0\n",
    "num = [len(df_filtered_2['target'].iloc[i]) for i in range(len(df_filtered_2))]\n",
    "num = sorted(num)\n",
    "\n",
    "# 평균 개수\n",
    "average = sum(num) / len(num)\n",
    "print(f'average : {average}')\n",
    "\n",
    "# 최대 / 최소 개수\n",
    "print(f'max : {max(num)}')\n",
    "print(f'min : {min(num)}')"
   ]
  },
  {
   "cell_type": "markdown",
   "metadata": {},
   "source": [
    "-> 최종 1749개의 유사도 데이터\n",
    "- 각 유사도 데이터에는 평균 146.9개의 노래가 속해 있음\n",
    "- 속한 개수의 최대 658, 최소 11개"
   ]
  },
  {
   "cell_type": "code",
   "execution_count": 75,
   "metadata": {},
   "outputs": [
    {
     "data": {
      "image/png": "[encoded data removed]",
      "text/plain": [
       "<Figure size 640x480 with 1 Axes>"
      ]
     },
     "metadata": {},
     "output_type": "display_data"
    }
   ],
   "source": [
    "import matplotlib.pyplot as plt\n",
    "\n",
    "plt.hist(num, bins=100)\n",
    "plt.title('Number of each component songs')\n",
    "plt.show()"
   ]
  },
  {
   "cell_type": "code",
   "execution_count": 62,
   "metadata": {},
   "outputs": [
    {
     "name": "stdout",
     "output_type": "stream",
     "text": [
      "1749\n",
      "257049\n"
     ]
    }
   ],
   "source": [
    "sim = df_filtered['target'].apply(lambda x: list(x.values()))\n",
    "total_sim = [value for item in sim for value in item]\n",
    "print(len(sim))\n",
    "print(len(total_sim))\n"
   ]
  },
  {
   "cell_type": "code",
   "execution_count": null,
   "metadata": {},
   "outputs": [
    {
     "name": "stdout",
     "output_type": "stream",
     "text": [
      "['0.000100035', '0.000100076', '0.000100126', '0.000100189', '0.000100189', '0.000100189', '0.00010026', '0.000100361', '0.000100538', '0.000100542']\n",
      "['1', '1', '1', '1', '1', '1', '1', '1', '1', '1', '1', '1', '1', '1', '1', '1', '1', '1', '1', '1', '1', '1', '1', '1', '1', '1', '1', '1', '1', '1', '1', '1', '1', '1', '1', '1', '1', '1', '1', '1', '1', '1', '1', '1', '1', '1', '1', '1', '1', '1', '1', '1', '1', '1', '1', '1', '1', '1', '1', '1', '1', '1', '1', '1', '1', '1', '1', '1', '1', '1', '1', '1', '1', '1', '1', '1', '1', '1', '1', '1', '1', '1', '1', '1', '1', '1', '1', '1', '1', '1', '1', '1', '1', '1', '1', '1', '1', '1', '1', '1']\n",
      "max : 9.99271e-05\n",
      "min : 0.000100035\n",
      "median : 0.0382303\n"
     ]
    },
    {
     "ename": "",
     "evalue": "",
     "output_type": "error",
     "traceback": [
      "\u001b[1;31mThe Kernel crashed while executing code in the current cell or a previous cell. \n",
      "\u001b[1;31mPlease review the code in the cell(s) to identify a possible cause of the failure. \n",
      "\u001b[1;31mClick <a href='https://aka.ms/vscodeJupyterKernelCrash'>here</a> for more info. \n",
      "\u001b[1;31mView Jupyter <a href='command:jupyter.viewOutput'>log</a> for further details."
     ]
    }
   ],
   "source": [
    "total_sim = sorted(total_sim)\n",
    "print(total_sim[:10])\n",
    "print(total_sim[-1000:-900])\n",
    "print(f'max : {max(total_sim)}')\n",
    "print(f'min : {min(total_sim)}')\n",
    "print(f'median : {total_sim[len(total_sim)//2]}')"
   ]
  },
  {
   "cell_type": "code",
   "execution_count": null,
   "metadata": {},
   "outputs": [
    {
     "data": {
      "image/png": "[encoded data removed]",
      "text/plain": [
       "<Figure size 640x480 with 1 Axes>"
      ]
     },
     "metadata": {},
     "output_type": "display_data"
    }
   ],
   "source": [
    "plt.hist(total_sim, bins=100)\n",
    "plt.title('histogram of similarity values')\n",
    "plt.show()"
   ]
  },
  {
   "cell_type": "code",
   "execution_count": 67,
   "metadata": {},
   "outputs": [
    {
     "data": {
      "image/png": "[encoded data removed]",
      "text/plain": [
       "<Figure size 640x480 with 1 Axes>"
      ]
     },
     "metadata": {},
     "output_type": "display_data"
    }
   ],
   "source": [
    "plt.hist(total_sim, bins=10)\n",
    "plt.title('histogram of similarity values')\n",
    "plt.show()"
   ]
  },
  {
   "cell_type": "markdown",
   "metadata": {},
   "source": [
    "### 전체 데이터로 filtering -> 집합 보면서 가져오기"
   ]
  },
  {
   "cell_type": "code",
   "execution_count": 14,
   "metadata": {},
   "outputs": [
    {
     "name": "stdout",
     "output_type": "stream",
     "text": [
      "                       tid                                             target\n",
      "140636  TRHZMUG128E0781AE5  {'TRHBELU128F4247AB2': '0.318704', 'TRGTKJT128...\n",
      "204612  TRMUTED128F424BE70  {'TRMGSBG128F429F025': '0.70773', 'TRGATEY128E...\n",
      "201158  TRMGSBG128F429F025  {'TRMAKGI128F92E9CE1': '0.868005', 'TRGATEY128...\n",
      "143799  TRHQBNG128F9300881  {'TRMVLBT128EF35709B': '0.723071', 'TRGHUBA128...\n",
      "441773  TRWGXUB128F14602E4  {'TRMSQJX12903CB4AE9': '0.485153', 'TRMGSBG128...\n",
      "                       tid                                 target\n",
      "16235   TRMBAXZ12903CF4300  {'TRWNGCN12903CBE6C5': '0.000987384'}\n",
      "197158  TRMEMXA128F92D737F    {'TRMRSCF128F933B1F0': '0.0402924'}\n",
      "134112  TRHBPBW128F92F1EEF    {'TRWQWKI128F4261FF6': '0.0668683'}\n",
      "484367  TRGQVKR128F4264494     {'TRMIGXF128F4276F34': '0.056267'}\n",
      "134956  TRHNZLZ128F9326731      {'TRGJJNJ128F14586FA': '0.05113'}\n"
     ]
    }
   ],
   "source": [
    "df_filtered_total_2 = df_filtered_total_2.sort_values(by='target', key=lambda x: x.str.len(), ascending=False)\n",
    "print(df_filtered_total_2.head())\n",
    "print(df_filtered_total_2.tail())\n",
    "\n",
    "df_filtered_total_num = df_filtered_total_2['target'].apply(lambda x: len(x))"
   ]
  },
  {
   "cell_type": "markdown",
   "metadata": {},
   "source": [
    "#### 집합 내 노래 개수에 따른 총 노래 개수 확인 (중복 제거 X)"
   ]
  },
  {
   "cell_type": "code",
   "execution_count": null,
   "metadata": {},
   "outputs": [
    {
     "name": "stdout",
     "output_type": "stream",
     "text": [
      "앵커의 개수 : 25\n",
      "총 노래의 개수 : 284\n"
     ]
    }
   ],
   "source": [
    "# 10개 이상의 노래를 가진 집합만 가져옴\n",
    "aaa = df_filtered_total_num.apply(lambda x: x > 9)\n",
    "print(f'앵커의 개수 : {aaa.sum()}')\n",
    "print(f'총 노래의 개수 : {df_filtered_total_num[aaa].sum()}')"
   ]
  },
  {
   "cell_type": "code",
   "execution_count": 106,
   "metadata": {},
   "outputs": [
    {
     "name": "stdout",
     "output_type": "stream",
     "text": [
      "앵커의 개수 : 33\n",
      "총 노래의 개수 : 356\n"
     ]
    }
   ],
   "source": [
    "# 9개 이상의 노래를 가진 집합만 가져옴\n",
    "bbb = df_filtered_total_num.apply(lambda x: x > 8)\n",
    "print(f'앵커의 개수 : {bbb.sum()}')\n",
    "print(f'총 노래의 개수 : {df_filtered_total_num[bbb].sum()}')"
   ]
  },
  {
   "cell_type": "code",
   "execution_count": 107,
   "metadata": {},
   "outputs": [
    {
     "name": "stdout",
     "output_type": "stream",
     "text": [
      "앵커의 개수 : 62\n",
      "총 노래의 개수 : 588\n"
     ]
    }
   ],
   "source": [
    "# 8개 이상의 노래를 가진 집합만 가져옴\n",
    "ccc = df_filtered_total_num.apply(lambda x: x > 7)\n",
    "print(f'앵커의 개수 : {ccc.sum()}')\n",
    "print(f'총 노래의 개수 : {df_filtered_total_num[ccc].sum()}')"
   ]
  },
  {
   "cell_type": "code",
   "execution_count": 130,
   "metadata": {},
   "outputs": [
    {
     "name": "stdout",
     "output_type": "stream",
     "text": [
      "앵커의 개수 : 113\n",
      "총 노래의 개수 : 945\n"
     ]
    }
   ],
   "source": [
    "# 7개 이상의 노래를 가진 집합만 가져옴\n",
    "ddd = df_filtered_total_num.apply(lambda x: x > 6)\n",
    "print(f'앵커의 개수 : {ddd.sum()}')\n",
    "print(f'총 노래의 개수 : {df_filtered_total_num[ddd].sum()}')"
   ]
  },
  {
   "cell_type": "markdown",
   "metadata": {},
   "source": [
    "#### 집합 내 노래 개수에 따른 총 노래 개수 확인 (중복 제거 O)"
   ]
  },
  {
   "cell_type": "code",
   "execution_count": null,
   "metadata": {},
   "outputs": [
    {
     "name": "stdout",
     "output_type": "stream",
     "text": [
      "앵커 개수 : 62\n",
      "집합 내  노래 개수 (중복 제거 전) : 588\n",
      "집합 내  노래 개수 (중복 제거 후) : 208\n",
      "총 노래 개수 (앵커 + 타겟) : 227\n"
     ]
    }
   ],
   "source": [
    "# 8개 이상의 노래를 가진 집합의 노래 가져옴\n",
    "track_id_anchor = set(df_filtered_total_2[ccc]['tid'].tolist())\n",
    "print(f'앵커 개수 : {len(track_id_anchor)}')\n",
    "\n",
    "track_id_value = []\n",
    "track_id_value.extend(\n",
    "    key \n",
    "    for n in range(len(df_filtered_total_2[ccc])) \n",
    "    for key in df_filtered_total_2[ccc]['target'].iloc[n].keys()\n",
    ")\n",
    "print(f'집합 내 노래 개수 (중복 제거 전) : {len(track_id_value)}')\n",
    "\n",
    "track_id_value = set(track_id_value)\n",
    "print(f'집합 내 노래 개수 (중복 제거 후) : {len(track_id_value)}')\n",
    "\n",
    "track_id_total = track_id_anchor.union(track_id_value)\n",
    "print(f'총 노래 개수 (앵커 + 타겟) : {len(track_id_total)}')"
   ]
  },
  {
   "cell_type": "code",
   "execution_count": 143,
   "metadata": {},
   "outputs": [
    {
     "name": "stdout",
     "output_type": "stream",
     "text": [
      "앵커 개수 : 113\n",
      "집합 내 노래 개수 (중복 제거 전) : 945\n",
      "집합 내 노래 개수 (중복 제거 후) : 309\n",
      "\n",
      "총 노래 개수 (앵커 + 타겟) : 343\n"
     ]
    }
   ],
   "source": [
    "# 7개 이상의 노래를 가진 집합의 노래 가져옴\n",
    "track_id_anchor = set(df_filtered_total_2[ddd]['tid'].tolist())\n",
    "print(f'앵커 개수 : {len(track_id_anchor)}')\n",
    "\n",
    "track_id_value = []\n",
    "track_id_value.extend(\n",
    "    key \n",
    "    for n in range(len(df_filtered_total_2[ddd])) \n",
    "    for key in df_filtered_total_2[ddd]['target'].iloc[n].keys()\n",
    ")\n",
    "print(f'집합 내 노래 개수 (중복 제거 전) : {len(track_id_value)}')\n",
    "\n",
    "track_id_value = set(track_id_value)\n",
    "print(f'집합 내 노래 개수 (중복 제거 후) : {len(track_id_value)}')\n",
    "\n",
    "print()\n",
    "\n",
    "track_id_total = track_id_anchor.union(track_id_value)\n",
    "print(f'총 노래 개수 (앵커 + 타겟) : {len(track_id_total)}')"
   ]
  },
  {
   "cell_type": "code",
   "execution_count": 15,
   "metadata": {},
   "outputs": [
    {
     "name": "stdout",
     "output_type": "stream",
     "text": [
      "앵커의 개수 : 302\n",
      "총 노래의 개수 : 1961\n",
      "앵커 개수 : 302\n",
      "집합 내 노래 개수 (중복 제거 전) : 1961\n",
      "집합 내 노래 개수 (중복 제거 후) : 560\n",
      "\n",
      "총 노래 개수 (앵커 + 타겟) : 656\n"
     ]
    }
   ],
   "source": [
    "# 5개 이상의 노래를 가진 집합만 가져옴\n",
    "nnn = df_filtered_total_num.apply(lambda x: x > 4)\n",
    "print(f'앵커의 개수 : {nnn.sum()}')\n",
    "print(f'총 노래의 개수 : {df_filtered_total_num[nnn].sum()}')\n",
    "\n",
    "track_id_anchor = set(df_filtered_total_2[nnn]['tid'].tolist())\n",
    "print(f'앵커 개수 : {len(track_id_anchor)}')\n",
    "\n",
    "track_id_value = []\n",
    "track_id_value.extend(\n",
    "    key \n",
    "    for n in range(len(df_filtered_total_2[nnn])) \n",
    "    for key in df_filtered_total_2[nnn]['target'].iloc[n].keys()\n",
    ")\n",
    "print(f'집합 내 노래 개수 (중복 제거 전) : {len(track_id_value)}')\n",
    "\n",
    "track_id_value = set(track_id_value)\n",
    "print(f'집합 내 노래 개수 (중복 제거 후) : {len(track_id_value)}')\n",
    "\n",
    "print()\n",
    "\n",
    "track_id_total = track_id_anchor.union(track_id_value)\n",
    "print(f'총 노래 개수 (앵커 + 타겟) : {len(track_id_total)}')"
   ]
  },
  {
   "cell_type": "markdown",
   "metadata": {},
   "source": [
    "### threshold 선택"
   ]
  },
  {
   "cell_type": "code",
   "execution_count": null,
   "metadata": {},
   "outputs": [
    {
     "data": {
      "text/html": [
       "<div>\n",
       "<style scoped>\n",
       "    .dataframe tbody tr th:only-of-type {\n",
       "        vertical-align: middle;\n",
       "    }\n",
       "\n",
       "    .dataframe tbody tr th {\n",
       "        vertical-align: top;\n",
       "    }\n",
       "\n",
       "    .dataframe thead th {\n",
       "        text-align: right;\n",
       "    }\n",
       "</style>\n",
       "<table border=\"1\" class=\"dataframe\">\n",
       "  <thead>\n",
       "    <tr style=\"text-align: right;\">\n",
       "      <th></th>\n",
       "      <th>tid</th>\n",
       "      <th>target</th>\n",
       "    </tr>\n",
       "  </thead>\n",
       "  <tbody>\n",
       "    <tr>\n",
       "      <th>140636</th>\n",
       "      <td>TRHZMUG128E0781AE5</td>\n",
       "      <td>{'TRHBELU128F4247AB2': '0.318704', 'TRGTKJT128...</td>\n",
       "    </tr>\n",
       "    <tr>\n",
       "      <th>204612</th>\n",
       "      <td>TRMUTED128F424BE70</td>\n",
       "      <td>{'TRMGSBG128F429F025': '0.70773', 'TRGATEY128E...</td>\n",
       "    </tr>\n",
       "    <tr>\n",
       "      <th>201158</th>\n",
       "      <td>TRMGSBG128F429F025</td>\n",
       "      <td>{'TRMAKGI128F92E9CE1': '0.868005', 'TRGATEY128...</td>\n",
       "    </tr>\n",
       "    <tr>\n",
       "      <th>143799</th>\n",
       "      <td>TRHQBNG128F9300881</td>\n",
       "      <td>{'TRMVLBT128EF35709B': '0.723071', 'TRGHUBA128...</td>\n",
       "    </tr>\n",
       "    <tr>\n",
       "      <th>441773</th>\n",
       "      <td>TRWGXUB128F14602E4</td>\n",
       "      <td>{'TRMSQJX12903CB4AE9': '0.485153', 'TRMGSBG128...</td>\n",
       "    </tr>\n",
       "  </tbody>\n",
       "</table>\n",
       "</div>"
      ],
      "text/plain": [
       "                       tid                                             target\n",
       "140636  TRHZMUG128E0781AE5  {'TRHBELU128F4247AB2': '0.318704', 'TRGTKJT128...\n",
       "204612  TRMUTED128F424BE70  {'TRMGSBG128F429F025': '0.70773', 'TRGATEY128E...\n",
       "201158  TRMGSBG128F429F025  {'TRMAKGI128F92E9CE1': '0.868005', 'TRGATEY128...\n",
       "143799  TRHQBNG128F9300881  {'TRMVLBT128EF35709B': '0.723071', 'TRGHUBA128...\n",
       "441773  TRWGXUB128F14602E4  {'TRMSQJX12903CB4AE9': '0.485153', 'TRMGSBG128..."
      ]
     },
     "execution_count": 144,
     "metadata": {},
     "output_type": "execute_result"
    }
   ],
   "source": [
    "# 집합 내 노래 개수가 7개 이상의 노래를 가진 집합만\n",
    "df_final_gt = df_filtered_total_2[ddd].copy()\n",
    "df_final_gt.head()"
   ]
  },
  {
   "cell_type": "code",
   "execution_count": null,
   "metadata": {},
   "outputs": [
    {
     "name": "stdout",
     "output_type": "stream",
     "text": [
      "thresholding & 노래 개수에 제한 있을 때, 앵커 개수 : 78\n",
      "앵커별 평균 노래 개수 :6.089743589743589\n"
     ]
    },
    {
     "data": {
      "image/png": "[encoded data removed]",
      "text/plain": [
       "<Figure size 640x480 with 1 Axes>"
      ]
     },
     "metadata": {},
     "output_type": "display_data"
    },
    {
     "name": "stdout",
     "output_type": "stream",
     "text": [
      "앵커 노래 개수 합 : 78\n",
      "앵커 내 노래 개수 합: 475\n",
      "최종 노래 개수 : 175\n"
     ]
    }
   ],
   "source": [
    "df_final_thresholding = df_final_gt.copy()\n",
    "df_final_thresholding['target'] = df_final_thresholding['target'].apply(lambda x: {k: v for k, v in x.items() if float(v) > 0.1}) # threshold : 0.1\n",
    "\n",
    "df_final_thresholding_nonzero = df_final_thresholding[df_final_thresholding['target'].apply(lambda x: len(x) > 1)] # 2개 이상의 노래만 가져옴\n",
    "print(f'thresholding & 노래 개수에 제한 있을 때, 앵커 개수 : {len(df_final_thresholding_nonzero)}')\n",
    "\n",
    "df_final_thresholding_num = df_final_thresholding_nonzero['target'].apply(lambda x: len(x)).tolist()\n",
    "\n",
    "print(f'앵커별 평균 노래 개수 :{sum(df_final_thresholding_num)/len(df_final_thresholding_num)}')\n",
    "\n",
    "plt.hist(df_final_thresholding_num, bins=50)\n",
    "plt.show()\n",
    "\n",
    "# 노래 개수\n",
    "df_final_thresholding_anchor = df_final_thresholding_nonzero['tid'].tolist()\n",
    "df_final_thresholding_value = []\n",
    "df_final_thresholding_value.extend(\n",
    "    key \n",
    "    for n in range(len(df_final_thresholding_nonzero)) \n",
    "    for key in df_final_thresholding_nonzero['target'].iloc[n].keys()\n",
    ")\n",
    "\n",
    "df_final_thresholding_total = set(df_final_thresholding_anchor + df_final_thresholding_value)\n",
    "\n",
    "print(f'앵커 노래 개수 합 : {len(df_final_thresholding_anchor)}')\n",
    "print(f'앵커 내 노래 개수 합: {len(df_final_thresholding_value)}')\n",
    "print(f'최종 노래 개수 : {len(df_final_thresholding_total)}')"
   ]
  },
  {
   "cell_type": "code",
   "execution_count": null,
   "metadata": {},
   "outputs": [
    {
     "name": "stdout",
     "output_type": "stream",
     "text": [
      "thresholding & 노래 개수에 제한 있을 때, 앵커 개수 : 135\n",
      "앵커별 평균 노래 개수 :5.0\n"
     ]
    },
    {
     "data": {
      "image/png": "[encoded data removed]",
      "text/plain": [
       "<Figure size 640x480 with 1 Axes>"
      ]
     },
     "metadata": {},
     "output_type": "display_data"
    },
    {
     "name": "stdout",
     "output_type": "stream",
     "text": [
      "앵커 노래 개수 합 : 135\n",
      "앵커 내 노래 개수 합: 675\n",
      "최종 노래 개수 : 242\n"
     ]
    }
   ],
   "source": [
    "# 집합 내 노래 개수가 5개 이상의 노래를 가진 집합만\n",
    "import matplotlib.pyplot as plt\n",
    "df_final_gt = df_filtered_total_2[nnn].copy()\n",
    "\n",
    "\n",
    "df_final_thresholding = df_final_gt.copy()\n",
    "df_final_thresholding['target'] = df_final_thresholding['target'].apply(lambda x: {k: v for k, v in x.items() if float(v) > 0.1}) # threshold : 0.1\n",
    "\n",
    "df_final_thresholding_nonzero = df_final_thresholding[df_final_thresholding['target'].apply(lambda x: len(x) > 1)] # 2개 이상의 노래만 가져옴\n",
    "print(f'thresholding & 노래 개수에 제한 있을 때, 앵커 개수 : {len(df_final_thresholding_nonzero)}')\n",
    "\n",
    "df_final_thresholding_num = df_final_thresholding_nonzero['target'].apply(lambda x: len(x)).tolist()\n",
    "\n",
    "print(f'앵커별 평균 노래 개수 :{sum(df_final_thresholding_num)/len(df_final_thresholding_num)}')\n",
    "\n",
    "plt.hist(df_final_thresholding_num, bins=50)\n",
    "plt.show()\n",
    "\n",
    "# 노래 개수\n",
    "df_final_thresholding_anchor = df_final_thresholding_nonzero['tid'].tolist()\n",
    "df_final_thresholding_value = []\n",
    "df_final_thresholding_value.extend(\n",
    "    key \n",
    "    for n in range(len(df_final_thresholding_nonzero)) \n",
    "    for key in df_final_thresholding_nonzero['target'].iloc[n].keys()\n",
    ")\n",
    "\n",
    "df_final_thresholding_total = set(df_final_thresholding_anchor + df_final_thresholding_value)\n",
    "\n",
    "print(f'앵커 노래 개수 합 : {len(df_final_thresholding_anchor)}')\n",
    "print(f'앵커 내 노래 개수 합: {len(df_final_thresholding_value)}')\n",
    "print(f'최종 노래 개수 : {len(df_final_thresholding_total)}')"
   ]
  },
  {
   "cell_type": "code",
   "execution_count": null,
   "metadata": {},
   "outputs": [],
   "source": [
    "df_final_thresholding_nonzero.to_csv(\n",
    "    r'C:\\Users\\user1\\Desktop\\SimSong\\data_v2\\gt_sim.csv', \n",
    "    index=False, \n",
    "    encoding='utf-8'\n",
    ")"
   ]
  },
  {
   "cell_type": "code",
   "execution_count": null,
   "metadata": {},
   "outputs": [],
   "source": []
  }
 ],
 "metadata": {
  "kernelspec": {
   "display_name": "base",
   "language": "python",
   "name": "python3"
  },
  "language_info": {
   "codemirror_mode": {
    "name": "ipython",
    "version": 3
   },
   "file_extension": ".py",
   "mimetype": "text/x-python",
   "name": "python",
   "nbconvert_exporter": "python",
   "pygments_lexer": "ipython3",
   "version": "3.12.3"
  }
 },
 "nbformat": 4,
 "nbformat_minor": 2
}
